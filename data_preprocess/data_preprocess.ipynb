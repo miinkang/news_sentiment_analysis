{
 "cells": [
  {
   "cell_type": "code",
   "execution_count": 1,
   "id": "banned-extraction",
   "metadata": {},
   "outputs": [],
   "source": [
    "import os\n",
    "import numpy as np\n",
    "import pandas as pd\n",
    "import pandas_datareader.data as web\n",
    "import datetime\n",
    "import matplotlib.pyplot as plt"
   ]
  },
  {
   "cell_type": "code",
   "execution_count": 2,
   "id": "younger-median",
   "metadata": {},
   "outputs": [],
   "source": [
    "start = datetime.datetime(2018, 3, 5)\n",
    "end = datetime.datetime(2021, 3, 5)\n",
    "snp500 = web.DataReader('^GSPC','yahoo',start,end)"
   ]
  },
  {
   "cell_type": "code",
   "execution_count": 8,
   "id": "filled-diamond",
   "metadata": {
    "scrolled": false
   },
   "outputs": [
    {
     "name": "stdout",
     "output_type": "stream",
     "text": [
      "757\n"
     ]
    },
    {
     "data": {
      "text/html": [
       "<div>\n",
       "<style scoped>\n",
       "    .dataframe tbody tr th:only-of-type {\n",
       "        vertical-align: middle;\n",
       "    }\n",
       "\n",
       "    .dataframe tbody tr th {\n",
       "        vertical-align: top;\n",
       "    }\n",
       "\n",
       "    .dataframe thead th {\n",
       "        text-align: right;\n",
       "    }\n",
       "</style>\n",
       "<table border=\"1\" class=\"dataframe\">\n",
       "  <thead>\n",
       "    <tr style=\"text-align: right;\">\n",
       "      <th></th>\n",
       "      <th>High</th>\n",
       "      <th>Low</th>\n",
       "      <th>Open</th>\n",
       "      <th>Close</th>\n",
       "      <th>Volume</th>\n",
       "      <th>Adj Close</th>\n",
       "    </tr>\n",
       "    <tr>\n",
       "      <th>Date</th>\n",
       "      <th></th>\n",
       "      <th></th>\n",
       "      <th></th>\n",
       "      <th></th>\n",
       "      <th></th>\n",
       "      <th></th>\n",
       "    </tr>\n",
       "  </thead>\n",
       "  <tbody>\n",
       "    <tr>\n",
       "      <th>2018-03-05</th>\n",
       "      <td>2728.090088</td>\n",
       "      <td>2675.750000</td>\n",
       "      <td>2681.060059</td>\n",
       "      <td>2720.939941</td>\n",
       "      <td>3710810000</td>\n",
       "      <td>2720.939941</td>\n",
       "    </tr>\n",
       "    <tr>\n",
       "      <th>2018-03-06</th>\n",
       "      <td>2732.080078</td>\n",
       "      <td>2711.260010</td>\n",
       "      <td>2730.179932</td>\n",
       "      <td>2728.120117</td>\n",
       "      <td>3370690000</td>\n",
       "      <td>2728.120117</td>\n",
       "    </tr>\n",
       "    <tr>\n",
       "      <th>2018-03-07</th>\n",
       "      <td>2730.600098</td>\n",
       "      <td>2701.739990</td>\n",
       "      <td>2710.179932</td>\n",
       "      <td>2726.800049</td>\n",
       "      <td>3393270000</td>\n",
       "      <td>2726.800049</td>\n",
       "    </tr>\n",
       "    <tr>\n",
       "      <th>2018-03-08</th>\n",
       "      <td>2740.449951</td>\n",
       "      <td>2722.649902</td>\n",
       "      <td>2732.750000</td>\n",
       "      <td>2738.969971</td>\n",
       "      <td>3212320000</td>\n",
       "      <td>2738.969971</td>\n",
       "    </tr>\n",
       "    <tr>\n",
       "      <th>2018-03-09</th>\n",
       "      <td>2786.570068</td>\n",
       "      <td>2751.540039</td>\n",
       "      <td>2752.909912</td>\n",
       "      <td>2786.570068</td>\n",
       "      <td>3364100000</td>\n",
       "      <td>2786.570068</td>\n",
       "    </tr>\n",
       "  </tbody>\n",
       "</table>\n",
       "</div>"
      ],
      "text/plain": [
       "                   High          Low         Open        Close      Volume  \\\n",
       "Date                                                                         \n",
       "2018-03-05  2728.090088  2675.750000  2681.060059  2720.939941  3710810000   \n",
       "2018-03-06  2732.080078  2711.260010  2730.179932  2728.120117  3370690000   \n",
       "2018-03-07  2730.600098  2701.739990  2710.179932  2726.800049  3393270000   \n",
       "2018-03-08  2740.449951  2722.649902  2732.750000  2738.969971  3212320000   \n",
       "2018-03-09  2786.570068  2751.540039  2752.909912  2786.570068  3364100000   \n",
       "\n",
       "              Adj Close  \n",
       "Date                     \n",
       "2018-03-05  2720.939941  \n",
       "2018-03-06  2728.120117  \n",
       "2018-03-07  2726.800049  \n",
       "2018-03-08  2738.969971  \n",
       "2018-03-09  2786.570068  "
      ]
     },
     "execution_count": 8,
     "metadata": {},
     "output_type": "execute_result"
    }
   ],
   "source": [
    "print(len(snp500))\n",
    "snp500.head()"
   ]
  },
  {
   "cell_type": "code",
   "execution_count": 5,
   "id": "controlling-simon",
   "metadata": {},
   "outputs": [],
   "source": [
    "usd_jpy = pd.read_csv('./JPY=X.csv', index_col=['Date'], parse_dates=True)\n",
    "btc_usd = pd.read_csv('./BTC-USD.csv', index_col=['Date'], parse_dates=True)\n",
    "cmc200 = pd.read_csv('./^CMC200.csv', index_col=['Date'], parse_dates=True)\n",
    "ftse0 = pd.read_csv('./^FTSE.csv', index_col=['Date'], parse_dates=True)\n",
    "n225 = pd.read_csv('./^N225.csv', index_col=['Date'], parse_dates=True)"
   ]
  },
  {
   "cell_type": "code",
   "execution_count": 74,
   "id": "deadly-harvard",
   "metadata": {},
   "outputs": [
    {
     "name": "stdout",
     "output_type": "stream",
     "text": [
      "                   Open         High          Low        Close    Adj Close  \\\n",
      "Date                                                                          \n",
      "2019-12-31  7587.100098  7587.399902  7532.399902  7542.399902  7542.399902   \n",
      "2020-01-02  7542.399902  7624.799805  7542.399902  7604.299805  7604.299805   \n",
      "2020-01-03  7604.299805  7626.399902  7551.000000  7622.399902  7622.399902   \n",
      "2020-01-06  7622.399902  7622.399902  7528.100098  7575.299805  7575.299805   \n",
      "2020-01-07  7575.299805  7604.600098  7562.100098  7573.899902  7573.899902   \n",
      "\n",
      "                 Volume  \n",
      "Date                     \n",
      "2019-12-31  212142200.0  \n",
      "2020-01-02  482206700.0  \n",
      "2020-01-03  475628900.0  \n",
      "2020-01-06  516783400.0  \n",
      "2020-01-07  511576100.0  \n"
     ]
    }
   ],
   "source": [
    "# print(usd_jpy.head())\n",
    "# print(btc_usd.head())\n",
    "# print(cmc200.head())  # 2019.01.02부터 시작\n",
    "print(ftse0.head())  \n",
    "# print(n225.head())"
   ]
  },
  {
   "cell_type": "code",
   "execution_count": 7,
   "id": "apparent-reference",
   "metadata": {},
   "outputs": [
    {
     "name": "stdout",
     "output_type": "stream",
     "text": [
      "300 300\n"
     ]
    },
    {
     "data": {
      "text/html": [
       "<div>\n",
       "<style scoped>\n",
       "    .dataframe tbody tr th:only-of-type {\n",
       "        vertical-align: middle;\n",
       "    }\n",
       "\n",
       "    .dataframe tbody tr th {\n",
       "        vertical-align: top;\n",
       "    }\n",
       "\n",
       "    .dataframe thead th {\n",
       "        text-align: right;\n",
       "    }\n",
       "</style>\n",
       "<table border=\"1\" class=\"dataframe\">\n",
       "  <thead>\n",
       "    <tr style=\"text-align: right;\">\n",
       "      <th></th>\n",
       "      <th>Open</th>\n",
       "      <th>High</th>\n",
       "      <th>Low</th>\n",
       "      <th>Close</th>\n",
       "      <th>Adj Close</th>\n",
       "      <th>Volume</th>\n",
       "    </tr>\n",
       "    <tr>\n",
       "      <th>Date</th>\n",
       "      <th></th>\n",
       "      <th></th>\n",
       "      <th></th>\n",
       "      <th></th>\n",
       "      <th></th>\n",
       "      <th></th>\n",
       "    </tr>\n",
       "  </thead>\n",
       "  <tbody>\n",
       "    <tr>\n",
       "      <th>2018-10-23</th>\n",
       "      <td>7042.799805</td>\n",
       "      <td>7042.799805</td>\n",
       "      <td>6928.700195</td>\n",
       "      <td>6955.200195</td>\n",
       "      <td>6955.200195</td>\n",
       "      <td>983305900</td>\n",
       "    </tr>\n",
       "    <tr>\n",
       "      <th>2018-10-24</th>\n",
       "      <td>6955.200195</td>\n",
       "      <td>7049.799805</td>\n",
       "      <td>6955.200195</td>\n",
       "      <td>6963.000000</td>\n",
       "      <td>6963.000000</td>\n",
       "      <td>778187100</td>\n",
       "    </tr>\n",
       "    <tr>\n",
       "      <th>2018-10-25</th>\n",
       "      <td>6963.000000</td>\n",
       "      <td>7004.100098</td>\n",
       "      <td>6886.000000</td>\n",
       "      <td>7004.100098</td>\n",
       "      <td>7004.100098</td>\n",
       "      <td>831568200</td>\n",
       "    </tr>\n",
       "    <tr>\n",
       "      <th>2018-10-26</th>\n",
       "      <td>7004.100098</td>\n",
       "      <td>7004.200195</td>\n",
       "      <td>6851.600098</td>\n",
       "      <td>6939.600098</td>\n",
       "      <td>6939.600098</td>\n",
       "      <td>779028300</td>\n",
       "    </tr>\n",
       "    <tr>\n",
       "      <th>2018-10-29</th>\n",
       "      <td>6939.600098</td>\n",
       "      <td>7085.899902</td>\n",
       "      <td>6939.600098</td>\n",
       "      <td>7026.299805</td>\n",
       "      <td>7026.299805</td>\n",
       "      <td>780563900</td>\n",
       "    </tr>\n",
       "  </tbody>\n",
       "</table>\n",
       "</div>"
      ],
      "text/plain": [
       "                   Open         High          Low        Close    Adj Close  \\\n",
       "Date                                                                          \n",
       "2018-10-23  7042.799805  7042.799805  6928.700195  6955.200195  6955.200195   \n",
       "2018-10-24  6955.200195  7049.799805  6955.200195  6963.000000  6963.000000   \n",
       "2018-10-25  6963.000000  7004.100098  6886.000000  7004.100098  7004.100098   \n",
       "2018-10-26  7004.100098  7004.200195  6851.600098  6939.600098  6939.600098   \n",
       "2018-10-29  6939.600098  7085.899902  6939.600098  7026.299805  7026.299805   \n",
       "\n",
       "               Volume  \n",
       "Date                   \n",
       "2018-10-23  983305900  \n",
       "2018-10-24  778187100  \n",
       "2018-10-25  831568200  \n",
       "2018-10-26  779028300  \n",
       "2018-10-29  780563900  "
      ]
     },
     "execution_count": 7,
     "metadata": {},
     "output_type": "execute_result"
    }
   ],
   "source": [
    "ftse1 = pd.read_csv('./^FTSE (1).csv', index_col=['Date'], parse_dates=True)\n",
    "ftse1.tail()\n",
    "print(len(ftse1), len(ftse0))\n",
    "ftse1.head()  # 한번 다운로드 받을 때마다 300개씩만 불려진다. "
   ]
  },
  {
   "cell_type": "code",
   "execution_count": 10,
   "id": "tracked-shelter",
   "metadata": {},
   "outputs": [
    {
     "name": "stdout",
     "output_type": "stream",
     "text": [
      "300\n"
     ]
    },
    {
     "data": {
      "text/html": [
       "<div>\n",
       "<style scoped>\n",
       "    .dataframe tbody tr th:only-of-type {\n",
       "        vertical-align: middle;\n",
       "    }\n",
       "\n",
       "    .dataframe tbody tr th {\n",
       "        vertical-align: top;\n",
       "    }\n",
       "\n",
       "    .dataframe thead th {\n",
       "        text-align: right;\n",
       "    }\n",
       "</style>\n",
       "<table border=\"1\" class=\"dataframe\">\n",
       "  <thead>\n",
       "    <tr style=\"text-align: right;\">\n",
       "      <th></th>\n",
       "      <th>Open</th>\n",
       "      <th>High</th>\n",
       "      <th>Low</th>\n",
       "      <th>Close</th>\n",
       "      <th>Adj Close</th>\n",
       "      <th>Volume</th>\n",
       "    </tr>\n",
       "    <tr>\n",
       "      <th>Date</th>\n",
       "      <th></th>\n",
       "      <th></th>\n",
       "      <th></th>\n",
       "      <th></th>\n",
       "      <th></th>\n",
       "      <th></th>\n",
       "    </tr>\n",
       "  </thead>\n",
       "  <tbody>\n",
       "    <tr>\n",
       "      <th>2017-08-16</th>\n",
       "      <td>7383.899902</td>\n",
       "      <td>7445.000000</td>\n",
       "      <td>7383.899902</td>\n",
       "      <td>7433.000000</td>\n",
       "      <td>7433.000000</td>\n",
       "      <td>568676900</td>\n",
       "    </tr>\n",
       "    <tr>\n",
       "      <th>2017-08-17</th>\n",
       "      <td>7433.000000</td>\n",
       "      <td>7433.700195</td>\n",
       "      <td>7382.200195</td>\n",
       "      <td>7387.899902</td>\n",
       "      <td>7387.899902</td>\n",
       "      <td>576511200</td>\n",
       "    </tr>\n",
       "    <tr>\n",
       "      <th>2017-08-18</th>\n",
       "      <td>7387.899902</td>\n",
       "      <td>7387.899902</td>\n",
       "      <td>7302.500000</td>\n",
       "      <td>7324.000000</td>\n",
       "      <td>7324.000000</td>\n",
       "      <td>719309100</td>\n",
       "    </tr>\n",
       "    <tr>\n",
       "      <th>2017-08-21</th>\n",
       "      <td>7324.000000</td>\n",
       "      <td>7332.000000</td>\n",
       "      <td>7296.799805</td>\n",
       "      <td>7318.899902</td>\n",
       "      <td>7318.899902</td>\n",
       "      <td>536324300</td>\n",
       "    </tr>\n",
       "    <tr>\n",
       "      <th>2017-08-22</th>\n",
       "      <td>7318.899902</td>\n",
       "      <td>7387.600098</td>\n",
       "      <td>7318.899902</td>\n",
       "      <td>7381.700195</td>\n",
       "      <td>7381.700195</td>\n",
       "      <td>656086900</td>\n",
       "    </tr>\n",
       "  </tbody>\n",
       "</table>\n",
       "</div>"
      ],
      "text/plain": [
       "                   Open         High          Low        Close    Adj Close  \\\n",
       "Date                                                                          \n",
       "2017-08-16  7383.899902  7445.000000  7383.899902  7433.000000  7433.000000   \n",
       "2017-08-17  7433.000000  7433.700195  7382.200195  7387.899902  7387.899902   \n",
       "2017-08-18  7387.899902  7387.899902  7302.500000  7324.000000  7324.000000   \n",
       "2017-08-21  7324.000000  7332.000000  7296.799805  7318.899902  7318.899902   \n",
       "2017-08-22  7318.899902  7387.600098  7318.899902  7381.700195  7381.700195   \n",
       "\n",
       "               Volume  \n",
       "Date                   \n",
       "2017-08-16  568676900  \n",
       "2017-08-17  576511200  \n",
       "2017-08-18  719309100  \n",
       "2017-08-21  536324300  \n",
       "2017-08-22  656086900  "
      ]
     },
     "execution_count": 10,
     "metadata": {},
     "output_type": "execute_result"
    }
   ],
   "source": [
    "ftse2 = pd.read_csv('./^FTSE (2).csv', index_col=['Date'], parse_dates=True)\n",
    "print(len(ftse2))\n",
    "ftse2.head()"
   ]
  },
  {
   "cell_type": "code",
   "execution_count": 11,
   "id": "visible-directory",
   "metadata": {},
   "outputs": [
    {
     "data": {
      "text/plain": [
       "900"
      ]
     },
     "execution_count": 11,
     "metadata": {},
     "output_type": "execute_result"
    }
   ],
   "source": [
    "ftse = pd.concat([ftse0, ftse1, ftse2], axis=0)\n",
    "len(ftse)"
   ]
  },
  {
   "cell_type": "code",
   "execution_count": 12,
   "id": "tender-vocabulary",
   "metadata": {},
   "outputs": [
    {
     "data": {
      "text/plain": [
       "761"
      ]
     },
     "execution_count": 12,
     "metadata": {},
     "output_type": "execute_result"
    }
   ],
   "source": [
    "ftse = ftse.sort_index()\n",
    "ftse = ftse[ftse.index >= '2018-03-05']\n",
    "len(ftse)"
   ]
  },
  {
   "cell_type": "code",
   "execution_count": 13,
   "id": "arabic-bulgaria",
   "metadata": {},
   "outputs": [
    {
     "name": "stdout",
     "output_type": "stream",
     "text": [
      "S&P 데이터 개수 : 757\n",
      "USD/JPY 데이터 개수 : 785\n",
      "BITCOIN/USD 데이터 개수 : 1097\n",
      "CMC200 데이터 개수 : 547\n",
      "FTSE100 데이터 개수 : 761\n",
      "NIKKEI 데이터 개수 : 741\n"
     ]
    }
   ],
   "source": [
    "print('S&P 데이터 개수 :', len(snp500))\n",
    "print('USD/JPY 데이터 개수 :',len(usd_jpy))  # 자르기 \n",
    "print('BITCOIN/USD 데이터 개수 :', len(btc_usd)) # 자르기\n",
    "print('CMC200 데이터 개수 :', len(cmc200)) # 음.. \n",
    "print('FTSE100 데이터 개수 :', len(ftse)) # 자르기\n",
    "print('NIKKEI 데이터 개수 :', len(n225))  # 추가"
   ]
  },
  {
   "cell_type": "code",
   "execution_count": 14,
   "id": "capable-jerusalem",
   "metadata": {},
   "outputs": [
    {
     "data": {
      "text/plain": [
       "DatetimeIndex(['2018-03-05', '2018-03-06', '2018-03-07', '2018-03-08',\n",
       "               '2018-03-09', '2018-03-12', '2018-03-13', '2018-03-14',\n",
       "               '2018-03-15', '2018-03-16',\n",
       "               ...\n",
       "               '2021-02-22', '2021-02-23', '2021-02-24', '2021-02-25',\n",
       "               '2021-02-26', '2021-03-01', '2021-03-02', '2021-03-03',\n",
       "               '2021-03-04', '2021-03-05'],\n",
       "              dtype='datetime64[ns]', name='Date', length=757, freq=None)"
      ]
     },
     "execution_count": 14,
     "metadata": {},
     "output_type": "execute_result"
    }
   ],
   "source": [
    "snp_date = snp500.index\n",
    "snp_date"
   ]
  },
  {
   "cell_type": "markdown",
   "id": "gross-parts",
   "metadata": {},
   "source": [
    "## S&P500 (757개) 를 기준으로 날짜 맞추기"
   ]
  },
  {
   "cell_type": "code",
   "execution_count": 15,
   "id": "surgical-america",
   "metadata": {},
   "outputs": [],
   "source": [
    "def del_date(df):\n",
    "    while len(df) > len(snp500):\n",
    "        for i in df.index:\n",
    "            if i not in snp_date:\n",
    "                df.drop([i], inplace=True)\n",
    "    \n",
    "    return df"
   ]
  },
  {
   "cell_type": "code",
   "execution_count": 16,
   "id": "continent-unemployment",
   "metadata": {},
   "outputs": [],
   "source": [
    "usd_jpy = del_date(usd_jpy)\n",
    "btc_usd = del_date(btc_usd)\n",
    "ftse = del_date(ftse)"
   ]
  },
  {
   "cell_type": "code",
   "execution_count": 17,
   "id": "curious-kinase",
   "metadata": {},
   "outputs": [
    {
     "name": "stdout",
     "output_type": "stream",
     "text": [
      "S&P 데이터 개수 : 757\n",
      "USD/JPY 데이터 개수 : 757\n",
      "BITCOIN/USD 데이터 개수 : 757\n",
      "CMC200 데이터 개수 : 547\n",
      "FTSE100 데이터 개수 : 745\n",
      "NIKKEI 데이터 개수 : 741\n"
     ]
    }
   ],
   "source": [
    "print('S&P 데이터 개수 :', len(snp500))\n",
    "print('USD/JPY 데이터 개수 :',len(usd_jpy))  # 자르기 \n",
    "print('BITCOIN/USD 데이터 개수 :', len(btc_usd)) # 자르기\n",
    "print('CMC200 데이터 개수 :', len(cmc200)) # 음.. \n",
    "print('FTSE100 데이터 개수 :', len(ftse)) # 자르기\n",
    "print('NIKKEI 데이터 개수 :', len(n225))  # 추가"
   ]
  },
  {
   "cell_type": "markdown",
   "id": "opening-ecology",
   "metadata": {},
   "source": [
    "- 긴 데이터들을 잘라주었습니다.\n",
    "- CMC200을 제외한 FTSE100, NIKKEI는 날짜를 추가한 후, 보간법을 이용해 데이터를 채우겠습니다."
   ]
  },
  {
   "cell_type": "code",
   "execution_count": 18,
   "id": "prescription-rebate",
   "metadata": {},
   "outputs": [],
   "source": [
    "def fill_date(df):\n",
    "    null_data = [None] * len(df.columns)\n",
    "    for i in snp_date:\n",
    "        if i not in df.index:\n",
    "            df.loc[i] = null_data\n",
    "            \n",
    "    return df"
   ]
  },
  {
   "cell_type": "code",
   "execution_count": 19,
   "id": "continent-collar",
   "metadata": {},
   "outputs": [],
   "source": [
    "ftse = fill_date(ftse)\n",
    "n225 = fill_date(n225)"
   ]
  },
  {
   "cell_type": "code",
   "execution_count": 20,
   "id": "desirable-produce",
   "metadata": {},
   "outputs": [
    {
     "name": "stdout",
     "output_type": "stream",
     "text": [
      "FTSE100 데이터 개수 : 757\n",
      "NIKKEI 데이터 개수 : 782\n"
     ]
    }
   ],
   "source": [
    "print('FTSE100 데이터 개수 :', len(ftse)) # 자르기\n",
    "print('NIKKEI 데이터 개수 :', len(n225))  # 추가"
   ]
  },
  {
   "cell_type": "code",
   "execution_count": 22,
   "id": "unauthorized-transmission",
   "metadata": {
    "scrolled": true
   },
   "outputs": [
    {
     "name": "stdout",
     "output_type": "stream",
     "text": [
      "2018-03-30 00:00:00\n",
      "2018-05-28 00:00:00\n",
      "2018-07-04 00:00:00\n",
      "2018-09-03 00:00:00\n",
      "2018-11-22 00:00:00\n",
      "2018-12-05 00:00:00\n",
      "2018-12-25 00:00:00\n",
      "2019-01-21 00:00:00\n",
      "2019-02-18 00:00:00\n",
      "2019-04-19 00:00:00\n",
      "2019-05-27 00:00:00\n",
      "2019-07-04 00:00:00\n",
      "2019-09-02 00:00:00\n",
      "2019-11-28 00:00:00\n",
      "2019-12-25 00:00:00\n",
      "2020-01-20 00:00:00\n",
      "2020-02-17 00:00:00\n",
      "2020-04-10 00:00:00\n",
      "2020-05-25 00:00:00\n",
      "2020-07-03 00:00:00\n",
      "2020-09-07 00:00:00\n",
      "2020-11-26 00:00:00\n",
      "2020-12-25 00:00:00\n",
      "2021-01-18 00:00:00\n",
      "2021-02-15 00:00:00\n"
     ]
    }
   ],
   "source": [
    "for i in n225.index:\n",
    "    if i not in snp_date:\n",
    "        print(i)"
   ]
  },
  {
   "cell_type": "code",
   "execution_count": 23,
   "id": "tutorial-press",
   "metadata": {},
   "outputs": [
    {
     "name": "stdout",
     "output_type": "stream",
     "text": [
      "NIKKEI 데이터 개수 : 757\n"
     ]
    }
   ],
   "source": [
    "n225 = del_date(n225)\n",
    "print('NIKKEI 데이터 개수 :', len(n225))"
   ]
  },
  {
   "cell_type": "code",
   "execution_count": 24,
   "id": "accepted-equity",
   "metadata": {},
   "outputs": [
    {
     "name": "stdout",
     "output_type": "stream",
     "text": [
      "S&P 데이터 개수 : 757\n",
      "USD/JPY 데이터 개수 : 757\n",
      "BITCOIN/USD 데이터 개수 : 757\n",
      "CMC200 데이터 개수 : 547\n",
      "FTSE100 데이터 개수 : 757\n",
      "NIKKEI 데이터 개수 : 757\n"
     ]
    }
   ],
   "source": [
    "print('S&P 데이터 개수 :', len(snp500))\n",
    "print('USD/JPY 데이터 개수 :',len(usd_jpy))  \n",
    "print('BITCOIN/USD 데이터 개수 :', len(btc_usd)) \n",
    "print('CMC200 데이터 개수 :', len(cmc200)) \n",
    "print('FTSE100 데이터 개수 :', len(ftse))\n",
    "print('NIKKEI 데이터 개수 :', len(n225))"
   ]
  },
  {
   "cell_type": "markdown",
   "id": "controversial-medication",
   "metadata": {},
   "source": [
    "- 개수가 맞춰졌으니 종가('Close')로 결측치를 보간해줍니다."
   ]
  },
  {
   "cell_type": "code",
   "execution_count": 25,
   "id": "egyptian-mills",
   "metadata": {},
   "outputs": [],
   "source": [
    "snp500 = snp500['Close']\n",
    "usd_jpy = usd_jpy['Close']\n",
    "btc_usd = btc_usd['Close']\n",
    "cmc200 = cmc200['Close']\n",
    "ftse = ftse['Close']\n",
    "n225 = n225['Close']"
   ]
  },
  {
   "cell_type": "code",
   "execution_count": 32,
   "id": "concerned-throw",
   "metadata": {},
   "outputs": [],
   "source": [
    "df_list = [snp500, usd_jpy, btc_usd, cmc200, ftse, n225]\n",
    "df_list_name = ['snp500', 'usd_jpy', 'btc_usd', 'cmc200', 'ftse', 'n225']"
   ]
  },
  {
   "cell_type": "code",
   "execution_count": 35,
   "id": "premium-spectacular",
   "metadata": {},
   "outputs": [],
   "source": [
    "def check_null(df_list, df_list_name):\n",
    "    for i, name in zip(df_list, df_list_name):\n",
    "        print(name, 'checking ...')\n",
    "        print(i.isnull().sum())"
   ]
  },
  {
   "cell_type": "code",
   "execution_count": 36,
   "id": "fatty-diagram",
   "metadata": {},
   "outputs": [
    {
     "name": "stdout",
     "output_type": "stream",
     "text": [
      "snp500 checking ...\n",
      "0\n",
      "usd_jpy checking ...\n",
      "21\n",
      "btc_usd checking ...\n",
      "4\n",
      "cmc200 checking ...\n",
      "32\n",
      "ftse checking ...\n",
      "13\n",
      "n225 checking ...\n",
      "51\n"
     ]
    }
   ],
   "source": [
    "check_null(df_list, df_list_name)"
   ]
  },
  {
   "cell_type": "code",
   "execution_count": 57,
   "id": "continuous-cooler",
   "metadata": {},
   "outputs": [],
   "source": [
    "def interpolate(df):\n",
    "    print('before:', df.isnull().sum())\n",
    "    df = df.interpolate(method='time')\n",
    "    print('after:',df[df.isna()])\n",
    "    print('after:',df.isnull().sum())\n",
    "    return df"
   ]
  },
  {
   "cell_type": "code",
   "execution_count": 58,
   "id": "annoying-anchor",
   "metadata": {},
   "outputs": [
    {
     "name": "stdout",
     "output_type": "stream",
     "text": [
      "before: 0\n",
      "after: Series([], Name: Close, dtype: float64)\n",
      "after: 0\n",
      "before: 21\n",
      "after: Series([], Name: Close, dtype: float64)\n",
      "after: 0\n",
      "before: 4\n",
      "after: Series([], Name: Close, dtype: float64)\n",
      "after: 0\n",
      "before: 32\n",
      "after: Series([], Name: Close, dtype: float64)\n",
      "after: 0\n",
      "before: 13\n",
      "after: Series([], Name: Close, dtype: float64)\n",
      "after: 0\n",
      "before: 51\n",
      "after: Series([], Name: Close, dtype: float64)\n",
      "after: 0\n"
     ]
    }
   ],
   "source": [
    "for df in df_list:\n",
    "    df = interpolate(df)"
   ]
  },
  {
   "cell_type": "code",
   "execution_count": 67,
   "id": "assured-diesel",
   "metadata": {},
   "outputs": [
    {
     "name": "stdout",
     "output_type": "stream",
     "text": [
      "before: 0\n",
      "after: Series([], Name: Close, dtype: float64)\n",
      "after: 0\n"
     ]
    },
    {
     "data": {
      "text/plain": [
       "<AxesSubplot:xlabel='Date'>"
      ]
     },
     "execution_count": 67,
     "metadata": {},
     "output_type": "execute_result"
    },
    {
     "data": {
      "image/png": "[encoded data removed]",
      "text/plain": [
       "<Figure size 432x288 with 1 Axes>"
      ]
     },
     "metadata": {
      "needs_background": "light"
     },
     "output_type": "display_data"
    }
   ],
   "source": [
    "snp500 = interpolate(snp500)\n",
    "snp500.plot()"
   ]
  },
  {
   "cell_type": "code",
   "execution_count": 68,
   "id": "express-affair",
   "metadata": {
    "scrolled": true
   },
   "outputs": [
    {
     "name": "stdout",
     "output_type": "stream",
     "text": [
      "before: 0\n",
      "after: Series([], Name: Close, dtype: float64)\n",
      "after: 0\n"
     ]
    },
    {
     "data": {
      "text/plain": [
       "<AxesSubplot:xlabel='Date'>"
      ]
     },
     "execution_count": 68,
     "metadata": {},
     "output_type": "execute_result"
    },
    {
     "data": {
      "image/png": "[encoded data removed]",
      "text/plain": [
       "<Figure size 432x288 with 1 Axes>"
      ]
     },
     "metadata": {
      "needs_background": "light"
     },
     "output_type": "display_data"
    }
   ],
   "source": [
    "usd_jpy = interpolate(usd_jpy)\n",
    "usd_jpy.plot()"
   ]
  },
  {
   "cell_type": "code",
   "execution_count": 69,
   "id": "viral-balance",
   "metadata": {
    "scrolled": true
   },
   "outputs": [
    {
     "name": "stdout",
     "output_type": "stream",
     "text": [
      "before: 0\n",
      "after: Series([], Name: Close, dtype: float64)\n",
      "after: 0\n"
     ]
    },
    {
     "data": {
      "text/plain": [
       "<AxesSubplot:xlabel='Date'>"
      ]
     },
     "execution_count": 69,
     "metadata": {},
     "output_type": "execute_result"
    },
    {
     "data": {
      "image/png": "[encoded data removed]",
      "text/plain": [
       "<Figure size 432x288 with 1 Axes>"
      ]
     },
     "metadata": {
      "needs_background": "light"
     },
     "output_type": "display_data"
    }
   ],
   "source": [
    "btc_usd = interpolate(btc_usd)\n",
    "btc_usd.plot()"
   ]
  },
  {
   "cell_type": "code",
   "execution_count": 70,
   "id": "proud-tunnel",
   "metadata": {
    "scrolled": true
   },
   "outputs": [
    {
     "name": "stdout",
     "output_type": "stream",
     "text": [
      "before: 32\n",
      "after: Series([], Name: Close, dtype: float64)\n",
      "after: 0\n"
     ]
    },
    {
     "data": {
      "text/plain": [
       "<AxesSubplot:xlabel='Date'>"
      ]
     },
     "execution_count": 70,
     "metadata": {},
     "output_type": "execute_result"
    },
    {
     "data": {
      "image/png": "[encoded data removed]",
      "text/plain": [
       "<Figure size 432x288 with 1 Axes>"
      ]
     },
     "metadata": {
      "needs_background": "light"
     },
     "output_type": "display_data"
    }
   ],
   "source": [
    "cmc200 = interpolate(cmc200)\n",
    "cmc200.plot()"
   ]
  },
  {
   "cell_type": "code",
   "execution_count": 71,
   "id": "technological-digest",
   "metadata": {},
   "outputs": [
    {
     "name": "stdout",
     "output_type": "stream",
     "text": [
      "before: 13\n",
      "after: Series([], Name: Close, dtype: float64)\n",
      "after: 0\n"
     ]
    },
    {
     "data": {
      "text/plain": [
       "<AxesSubplot:xlabel='Date'>"
      ]
     },
     "execution_count": 71,
     "metadata": {},
     "output_type": "execute_result"
    },
    {
     "data": {
      "image/png": "[encoded data removed]",
      "text/plain": [
       "<Figure size 432x288 with 1 Axes>"
      ]
     },
     "metadata": {
      "needs_background": "light"
     },
     "output_type": "display_data"
    }
   ],
   "source": [
    "ftse = interpolate(ftse)\n",
    "ftse.plot()"
   ]
  },
  {
   "cell_type": "code",
   "execution_count": 72,
   "id": "subsequent-sheriff",
   "metadata": {},
   "outputs": [
    {
     "name": "stdout",
     "output_type": "stream",
     "text": [
      "before: 51\n",
      "after: Series([], Name: Close, dtype: float64)\n",
      "after: 0\n"
     ]
    },
    {
     "data": {
      "text/plain": [
       "<AxesSubplot:xlabel='Date'>"
      ]
     },
     "execution_count": 72,
     "metadata": {},
     "output_type": "execute_result"
    },
    {
     "data": {
      "image/png": "[encoded data removed]",
      "text/plain": [
       "<Figure size 432x288 with 1 Axes>"
      ]
     },
     "metadata": {
      "needs_background": "light"
     },
     "output_type": "display_data"
    }
   ],
   "source": [
    "n225 = interpolate(n225)\n",
    "n225.plot()"
   ]
  },
  {
   "cell_type": "code",
   "execution_count": 73,
   "id": "worse-amendment",
   "metadata": {},
   "outputs": [],
   "source": [
    "usd_jpy /= 1000\n",
    "btc_usd /= 1000\n",
    "cmc200 /= 1000\n",
    "ftse /= 1000\n",
    "n225 /= 1000\n",
    "\n",
    "usd_jpy = usd_jpy.values.reshape(-1,1)\n",
    "btc_usd = btc_usd.values.reshape(-1,1)\n",
    "# cmc200 = cmc200.values.reshape(-1,1)\n",
    "ftse = ftse.values.reshape(-1,1)\n",
    "n225 = n225.values.reshape(-1,1)"
   ]
  }
 ],
 "metadata": {
  "kernelspec": {
   "display_name": "Python 3",
   "language": "python",
   "name": "python3"
  },
  "language_info": {
   "codemirror_mode": {
    "name": "ipython",
    "version": 3
   },
   "file_extension": ".py",
   "mimetype": "text/x-python",
   "name": "python",
   "nbconvert_exporter": "python",
   "pygments_lexer": "ipython3",
   "version": "3.7.9"
  }
 },
 "nbformat": 4,
 "nbformat_minor": 5
}
